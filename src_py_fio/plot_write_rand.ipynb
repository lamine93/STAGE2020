{
 "cells": [
  {
   "cell_type": "code",
   "execution_count": 78,
   "metadata": {},
   "outputs": [],
   "source": [
    "import os \n",
    "from glob import glob\n",
    "import pandas as pd\n",
    "import numpy as np\n",
    "import matplotlib.pyplot as plt"
   ]
  },
  {
   "cell_type": "code",
   "execution_count": 79,
   "metadata": {},
   "outputs": [],
   "source": [
    "PATH = \"../fio/randwrite\"\n",
    "EXT = \"*.log\""
   ]
  },
  {
   "cell_type": "code",
   "execution_count": 80,
   "metadata": {},
   "outputs": [],
   "source": [
    "#load data\n",
    "all_csv_files = [file\n",
    "                 for path, subdir, files in os.walk(PATH)\n",
    "                 for file in glob(os.path.join(path, EXT))]"
   ]
  },
  {
   "cell_type": "code",
   "execution_count": 81,
   "metadata": {},
   "outputs": [
    {
     "data": {
      "text/plain": [
       "['../fio/randwrite/trace_randwrite16B_bw.log',\n",
       " '../fio/randwrite/trace_randwrite16B_lat.log',\n",
       " '../fio/randwrite/trace_randwrite4B_bw.log',\n",
       " '../fio/randwrite/trace_randwrite4B_lat.log',\n",
       " '../fio/randwrite/trace_randwrite64B_bw.log',\n",
       " '../fio/randwrite/trace_randwrite64B_lat.log']"
      ]
     },
     "execution_count": 81,
     "metadata": {},
     "output_type": "execute_result"
    }
   ],
   "source": [
    "all_csv_files.sort()\n",
    "all_csv_files"
   ]
  },
  {
   "cell_type": "code",
   "execution_count": 82,
   "metadata": {},
   "outputs": [],
   "source": [
    "#read csv data \n",
    "#pd.options.display.float_format = '{:.6f}'.format\n",
    "#date d'arrivée --> milliseconde\n",
    "#bw/lat---> KiB/sec|nanoseconde \n",
    "#type---> read=0|write=1 \n",
    "#taille/offset---> Bytes\n",
    "df_write = [pd.read_csv(file, delimiter=\",\", names=[\"date\", \"bw|lat\", \"type\",\"taille\", \"offset\", \"prio\"]) \n",
    "                                             for file in all_csv_files]"
   ]
  },
  {
   "cell_type": "code",
   "execution_count": 83,
   "metadata": {},
   "outputs": [
    {
     "data": {
      "text/plain": [
       "Index(['date', 'bw|lat', 'type', 'taille', 'offset', 'prio'], dtype='object')"
      ]
     },
     "execution_count": 83,
     "metadata": {},
     "output_type": "execute_result"
    }
   ],
   "source": [
    "df_write[0].columns"
   ]
  },
  {
   "cell_type": "code",
   "execution_count": 84,
   "metadata": {},
   "outputs": [],
   "source": [
    "#convertisseur \n",
    "ms_to_sec = 1e-3\n",
    "ns_to_sec = 1e-9\n",
    "kib_to_kb = 1.024"
   ]
  },
  {
   "cell_type": "markdown",
   "metadata": {},
   "source": [
    "**Representations graphiques des latences pour les différentes tailles**"
   ]
  },
  {
   "cell_type": "code",
   "execution_count": 85,
   "metadata": {},
   "outputs": [
    {
     "data": {
      "text/html": [
       "<div>\n",
       "<style scoped>\n",
       "    .dataframe tbody tr th:only-of-type {\n",
       "        vertical-align: middle;\n",
       "    }\n",
       "\n",
       "    .dataframe tbody tr th {\n",
       "        vertical-align: top;\n",
       "    }\n",
       "\n",
       "    .dataframe thead th {\n",
       "        text-align: right;\n",
       "    }\n",
       "</style>\n",
       "<table border=\"1\" class=\"dataframe\">\n",
       "  <thead>\n",
       "    <tr style=\"text-align: right;\">\n",
       "      <th></th>\n",
       "      <th>date</th>\n",
       "      <th>bw|lat</th>\n",
       "      <th>type</th>\n",
       "      <th>taille</th>\n",
       "      <th>offset</th>\n",
       "      <th>prio</th>\n",
       "    </tr>\n",
       "  </thead>\n",
       "  <tbody>\n",
       "    <tr>\n",
       "      <th>0</th>\n",
       "      <td>0</td>\n",
       "      <td>8</td>\n",
       "      <td>1</td>\n",
       "      <td>4</td>\n",
       "      <td>975396</td>\n",
       "      <td>0</td>\n",
       "    </tr>\n",
       "    <tr>\n",
       "      <th>1</th>\n",
       "      <td>1</td>\n",
       "      <td>9</td>\n",
       "      <td>1</td>\n",
       "      <td>4</td>\n",
       "      <td>940988</td>\n",
       "      <td>0</td>\n",
       "    </tr>\n",
       "    <tr>\n",
       "      <th>2</th>\n",
       "      <td>1</td>\n",
       "      <td>9</td>\n",
       "      <td>1</td>\n",
       "      <td>4</td>\n",
       "      <td>6616</td>\n",
       "      <td>0</td>\n",
       "    </tr>\n",
       "    <tr>\n",
       "      <th>3</th>\n",
       "      <td>2</td>\n",
       "      <td>9</td>\n",
       "      <td>1</td>\n",
       "      <td>4</td>\n",
       "      <td>858244</td>\n",
       "      <td>0</td>\n",
       "    </tr>\n",
       "    <tr>\n",
       "      <th>4</th>\n",
       "      <td>2</td>\n",
       "      <td>11</td>\n",
       "      <td>1</td>\n",
       "      <td>4</td>\n",
       "      <td>448644</td>\n",
       "      <td>0</td>\n",
       "    </tr>\n",
       "  </tbody>\n",
       "</table>\n",
       "</div>"
      ],
      "text/plain": [
       "   date  bw|lat  type  taille  offset  prio\n",
       "0     0       8     1       4  975396     0\n",
       "1     1       9     1       4  940988     0\n",
       "2     1       9     1       4    6616     0\n",
       "3     2       9     1       4  858244     0\n",
       "4     2      11     1       4  448644     0"
      ]
     },
     "execution_count": 85,
     "metadata": {},
     "output_type": "execute_result"
    }
   ],
   "source": [
    "#Latence respectivements pour les tailles 4B, 16B, 64B\n",
    "df_write_lat = [df_write[3], df_write[1],df_write[5]]\n",
    "df_write_bw[0].head()"
   ]
  },
  {
   "cell_type": "code",
   "execution_count": 101,
   "metadata": {},
   "outputs": [
    {
     "data": {
      "text/plain": [
       "count   0.00025000\n",
       "mean    0.00059625\n",
       "std     0.00379952\n",
       "min     0.00027480\n",
       "25%     0.00036682\n",
       "50%     0.00039654\n",
       "75%     0.00048111\n",
       "max     0.64079845\n",
       "Name: bw|lat, dtype: float64"
      ]
     },
     "execution_count": 101,
     "metadata": {},
     "output_type": "execute_result"
    }
   ],
   "source": [
    "pd.options.display.float_format = '{:.8f}'.format\n",
    "(df_write_lat[0][\"bw|lat\"].describe())*ns_to_sec"
   ]
  },
  {
   "cell_type": "code",
   "execution_count": 86,
   "metadata": {},
   "outputs": [
    {
     "data": {
      "text/html": [
       "<div>\n",
       "<style scoped>\n",
       "    .dataframe tbody tr th:only-of-type {\n",
       "        vertical-align: middle;\n",
       "    }\n",
       "\n",
       "    .dataframe tbody tr th {\n",
       "        vertical-align: top;\n",
       "    }\n",
       "\n",
       "    .dataframe thead th {\n",
       "        text-align: right;\n",
       "    }\n",
       "</style>\n",
       "<table border=\"1\" class=\"dataframe\">\n",
       "  <thead>\n",
       "    <tr style=\"text-align: right;\">\n",
       "      <th></th>\n",
       "      <th>date</th>\n",
       "      <th>bw|lat</th>\n",
       "      <th>type</th>\n",
       "      <th>taille</th>\n",
       "      <th>offset</th>\n",
       "      <th>prio</th>\n",
       "    </tr>\n",
       "  </thead>\n",
       "  <tbody>\n",
       "    <tr>\n",
       "      <th>0</th>\n",
       "      <td>99</td>\n",
       "      <td>99578346.0</td>\n",
       "      <td>1.0</td>\n",
       "      <td>4.0</td>\n",
       "      <td>60312.0</td>\n",
       "      <td>0.0</td>\n",
       "    </tr>\n",
       "    <tr>\n",
       "      <th>1</th>\n",
       "      <td>167</td>\n",
       "      <td>67038115.0</td>\n",
       "      <td>1.0</td>\n",
       "      <td>4.0</td>\n",
       "      <td>740288.0</td>\n",
       "      <td>0.0</td>\n",
       "    </tr>\n",
       "    <tr>\n",
       "      <th>2</th>\n",
       "      <td>233</td>\n",
       "      <td>66816918.0</td>\n",
       "      <td>1.0</td>\n",
       "      <td>4.0</td>\n",
       "      <td>843180.0</td>\n",
       "      <td>0.0</td>\n",
       "    </tr>\n",
       "    <tr>\n",
       "      <th>3</th>\n",
       "      <td>300</td>\n",
       "      <td>66255503.0</td>\n",
       "      <td>1.0</td>\n",
       "      <td>4.0</td>\n",
       "      <td>470012.0</td>\n",
       "      <td>0.0</td>\n",
       "    </tr>\n",
       "    <tr>\n",
       "      <th>4</th>\n",
       "      <td>366</td>\n",
       "      <td>66640305.0</td>\n",
       "      <td>1.0</td>\n",
       "      <td>4.0</td>\n",
       "      <td>401912.0</td>\n",
       "      <td>0.0</td>\n",
       "    </tr>\n",
       "  </tbody>\n",
       "</table>\n",
       "</div>"
      ],
      "text/plain": [
       "   date      bw|lat  type  taille    offset  prio\n",
       "0    99  99578346.0   1.0     4.0   60312.0   0.0\n",
       "1   167  67038115.0   1.0     4.0  740288.0   0.0\n",
       "2   233  66816918.0   1.0     4.0  843180.0   0.0\n",
       "3   300  66255503.0   1.0     4.0  470012.0   0.0\n",
       "4   366  66640305.0   1.0     4.0  401912.0   0.0"
      ]
     },
     "execution_count": 86,
     "metadata": {},
     "output_type": "execute_result"
    }
   ],
   "source": [
    "# Regrouper les données(bw|lat) qui ont les dates d'arrivées en calcul la moyenne\n",
    "df_write_lat_mean = [df.groupby([\"date\"], as_index=False).mean() for df in df_write_lat]\n",
    "df_write_lat_mean[0].head()"
   ]
  },
  {
   "cell_type": "code",
   "execution_count": 87,
   "metadata": {},
   "outputs": [
    {
     "data": {
      "text/plain": [
       "123285    0.000406\n",
       "123286    0.000375\n",
       "123287    0.000599\n",
       "123288    0.000368\n",
       "123289    0.000409\n",
       "Name: bw|lat, dtype: float64"
      ]
     },
     "execution_count": 87,
     "metadata": {},
     "output_type": "execute_result"
    }
   ],
   "source": [
    "#données des lectures aleatoires  par une taille de 4 bytes\n",
    "begin_time_lat4 = df_write_lat_mean[0][\"date\"][0]\n",
    "x_lat4 = (df_write_lat_mean[0][\"date\"] - begin_time_lat4)*ms_to_sec\n",
    "y_lat4 = (df_write_lat_mean[0][\"bw|lat\"])*ns_to_sec\n",
    "y_lat4.tail()"
   ]
  },
  {
   "cell_type": "code",
   "execution_count": 88,
   "metadata": {},
   "outputs": [
    {
     "data": {
      "image/png": "[encoded data removed]",
      "text/plain": [
       "<Figure size 864x216 with 1 Axes>"
      ]
     },
     "metadata": {
      "needs_background": "light"
     },
     "output_type": "display_data"
    }
   ],
   "source": [
    "#plot des latences des lectures aleatoires par un pas de 4 bytes\n",
    "plt.figure(figsize=(12, 3))\n",
    "plt.plot(x_lat4[:500], y_lat4[:500], \"-o\",linewidth =2.5)\n",
    "plt.xlabel(\"date d'arrivée(s)\")\n",
    "plt.ylabel(\"latence(s)\")\n",
    "plt.title('latence des écritures aleatoires de 4 Bytes')\n",
    "plt.savefig(\"../outplot_fio/write/rand/latence/write4B.png\")\n",
    "plt.show()"
   ]
  },
  {
   "cell_type": "code",
   "execution_count": 89,
   "metadata": {},
   "outputs": [
    {
     "data": {
      "text/plain": [
       "30696    0.000635\n",
       "30697    0.000656\n",
       "30698    0.001596\n",
       "30699    0.000725\n",
       "30700    0.000778\n",
       "Name: bw|lat, dtype: float64"
      ]
     },
     "execution_count": 89,
     "metadata": {},
     "output_type": "execute_result"
    }
   ],
   "source": [
    "#données des lectures seq par une taille de 16 bytes\n",
    "begin_time_lat16 = df_write_lat_mean[1][\"date\"][0]\n",
    "x_lat16 = (df_write_lat_mean[1][\"date\"] - begin_time_lat16)*ms_to_sec\n",
    "y_lat16 = (df_write_lat_mean[1][\"bw|lat\"])*ns_to_sec\n",
    "y_lat16.tail()"
   ]
  },
  {
   "cell_type": "code",
   "execution_count": 90,
   "metadata": {},
   "outputs": [
    {
     "data": {
      "image/png": "[encoded data removed]",
      "text/plain": [
       "<Figure size 864x216 with 1 Axes>"
      ]
     },
     "metadata": {
      "needs_background": "light"
     },
     "output_type": "display_data"
    }
   ],
   "source": [
    "#plot des données des lectures seq par une taille de 16 bytes\n",
    "plt.figure(figsize=(12, 3))\n",
    "plt.plot(x_lat16[:500], y_lat16[:500], \"-o\",linewidth =2.5)\n",
    "plt.xlabel(\"date d'arrivée(s)\")\n",
    "plt.ylabel(\"latence(s)\")\n",
    "plt.title('latence des écritures aleatoires de 16 Bytes')\n",
    "plt.savefig(\"../outplot_fio/write/rand/latence/write16B.png\")\n",
    "plt.show()"
   ]
  },
  {
   "cell_type": "code",
   "execution_count": 91,
   "metadata": {},
   "outputs": [
    {
     "data": {
      "text/plain": [
       "7752    0.000372\n",
       "7753    0.000411\n",
       "7754    0.000361\n",
       "7755    0.000579\n",
       "7756    0.000355\n",
       "Name: bw|lat, dtype: float64"
      ]
     },
     "execution_count": 91,
     "metadata": {},
     "output_type": "execute_result"
    }
   ],
   "source": [
    "#données des lectures seq par une taille de 64 bytes\n",
    "begin_time_lat64 = df_write_lat_mean[2][\"date\"][0]\n",
    "x_lat64 = (df_write_lat_mean[2][\"date\"] - begin_time_lat64)*ms_to_sec\n",
    "y_lat64 = (df_write_lat_mean[2][\"bw|lat\"])*ns_to_sec\n",
    "y_lat64.tail()"
   ]
  },
  {
   "cell_type": "code",
   "execution_count": 92,
   "metadata": {},
   "outputs": [
    {
     "data": {
      "image/png": "[encoded data removed]",
      "text/plain": [
       "<Figure size 864x216 with 1 Axes>"
      ]
     },
     "metadata": {
      "needs_background": "light"
     },
     "output_type": "display_data"
    }
   ],
   "source": [
    "#plot des données des lectures seq par une taille de 64 bytes\n",
    "plt.figure(figsize=(12, 3))\n",
    "plt.plot(x_lat64[:500], y_lat64[:500], \"-o\",linewidth =2.5)\n",
    "plt.xlabel(\"date d'arrivée(s)\")\n",
    "plt.ylabel(\"latence(s)\")\n",
    "plt.title('latence des écritures aleatoires de 64 Bytes')\n",
    "plt.savefig(\"../outplot_fio/write/rand/latence/write64B.png\")\n",
    "plt.show()"
   ]
  },
  {
   "cell_type": "markdown",
   "metadata": {},
   "source": [
    "**Representations graphiques des bandwiths pour les différentes tailles**"
   ]
  },
  {
   "cell_type": "code",
   "execution_count": 93,
   "metadata": {},
   "outputs": [
    {
     "data": {
      "text/html": [
       "<div>\n",
       "<style scoped>\n",
       "    .dataframe tbody tr th:only-of-type {\n",
       "        vertical-align: middle;\n",
       "    }\n",
       "\n",
       "    .dataframe tbody tr th {\n",
       "        vertical-align: top;\n",
       "    }\n",
       "\n",
       "    .dataframe thead th {\n",
       "        text-align: right;\n",
       "    }\n",
       "</style>\n",
       "<table border=\"1\" class=\"dataframe\">\n",
       "  <thead>\n",
       "    <tr style=\"text-align: right;\">\n",
       "      <th></th>\n",
       "      <th>date</th>\n",
       "      <th>bw|lat</th>\n",
       "      <th>type</th>\n",
       "      <th>taille</th>\n",
       "      <th>offset</th>\n",
       "      <th>prio</th>\n",
       "    </tr>\n",
       "  </thead>\n",
       "  <tbody>\n",
       "    <tr>\n",
       "      <th>0</th>\n",
       "      <td>99</td>\n",
       "      <td>0</td>\n",
       "      <td>1</td>\n",
       "      <td>4</td>\n",
       "      <td>60312</td>\n",
       "      <td>0</td>\n",
       "    </tr>\n",
       "    <tr>\n",
       "      <th>1</th>\n",
       "      <td>167</td>\n",
       "      <td>0</td>\n",
       "      <td>1</td>\n",
       "      <td>4</td>\n",
       "      <td>740288</td>\n",
       "      <td>0</td>\n",
       "    </tr>\n",
       "    <tr>\n",
       "      <th>2</th>\n",
       "      <td>233</td>\n",
       "      <td>0</td>\n",
       "      <td>1</td>\n",
       "      <td>4</td>\n",
       "      <td>843180</td>\n",
       "      <td>0</td>\n",
       "    </tr>\n",
       "    <tr>\n",
       "      <th>3</th>\n",
       "      <td>300</td>\n",
       "      <td>0</td>\n",
       "      <td>1</td>\n",
       "      <td>4</td>\n",
       "      <td>470012</td>\n",
       "      <td>0</td>\n",
       "    </tr>\n",
       "    <tr>\n",
       "      <th>4</th>\n",
       "      <td>366</td>\n",
       "      <td>0</td>\n",
       "      <td>1</td>\n",
       "      <td>4</td>\n",
       "      <td>401912</td>\n",
       "      <td>0</td>\n",
       "    </tr>\n",
       "  </tbody>\n",
       "</table>\n",
       "</div>"
      ],
      "text/plain": [
       "   date  bw|lat  type  taille  offset  prio\n",
       "0    99       0     1       4   60312     0\n",
       "1   167       0     1       4  740288     0\n",
       "2   233       0     1       4  843180     0\n",
       "3   300       0     1       4  470012     0\n",
       "4   366       0     1       4  401912     0"
      ]
     },
     "execution_count": 93,
     "metadata": {},
     "output_type": "execute_result"
    }
   ],
   "source": [
    "#Bandwiths respectivements pour les tailles 4B, 16B, 64B\n",
    "df_write_bw = [df_write[2], df_write[0],df_write[4]]\n",
    "df_write_bw[0].head()"
   ]
  },
  {
   "cell_type": "code",
   "execution_count": 94,
   "metadata": {},
   "outputs": [
    {
     "data": {
      "text/html": [
       "<div>\n",
       "<style scoped>\n",
       "    .dataframe tbody tr th:only-of-type {\n",
       "        vertical-align: middle;\n",
       "    }\n",
       "\n",
       "    .dataframe tbody tr th {\n",
       "        vertical-align: top;\n",
       "    }\n",
       "\n",
       "    .dataframe thead th {\n",
       "        text-align: right;\n",
       "    }\n",
       "</style>\n",
       "<table border=\"1\" class=\"dataframe\">\n",
       "  <thead>\n",
       "    <tr style=\"text-align: right;\">\n",
       "      <th></th>\n",
       "      <th>date</th>\n",
       "      <th>bw|lat</th>\n",
       "      <th>type</th>\n",
       "      <th>taille</th>\n",
       "      <th>offset</th>\n",
       "      <th>prio</th>\n",
       "    </tr>\n",
       "  </thead>\n",
       "  <tbody>\n",
       "    <tr>\n",
       "      <th>0</th>\n",
       "      <td>67</td>\n",
       "      <td>0.0</td>\n",
       "      <td>1.0</td>\n",
       "      <td>16.0</td>\n",
       "      <td>60304.0</td>\n",
       "      <td>0.0</td>\n",
       "    </tr>\n",
       "    <tr>\n",
       "      <th>1</th>\n",
       "      <td>133</td>\n",
       "      <td>0.0</td>\n",
       "      <td>1.0</td>\n",
       "      <td>16.0</td>\n",
       "      <td>740288.0</td>\n",
       "      <td>0.0</td>\n",
       "    </tr>\n",
       "    <tr>\n",
       "      <th>2</th>\n",
       "      <td>198</td>\n",
       "      <td>0.0</td>\n",
       "      <td>1.0</td>\n",
       "      <td>16.0</td>\n",
       "      <td>843168.0</td>\n",
       "      <td>0.0</td>\n",
       "    </tr>\n",
       "    <tr>\n",
       "      <th>3</th>\n",
       "      <td>263</td>\n",
       "      <td>0.0</td>\n",
       "      <td>1.0</td>\n",
       "      <td>16.0</td>\n",
       "      <td>470000.0</td>\n",
       "      <td>0.0</td>\n",
       "    </tr>\n",
       "    <tr>\n",
       "      <th>4</th>\n",
       "      <td>328</td>\n",
       "      <td>0.0</td>\n",
       "      <td>1.0</td>\n",
       "      <td>16.0</td>\n",
       "      <td>401904.0</td>\n",
       "      <td>0.0</td>\n",
       "    </tr>\n",
       "  </tbody>\n",
       "</table>\n",
       "</div>"
      ],
      "text/plain": [
       "   date  bw|lat  type  taille    offset  prio\n",
       "0    67     0.0   1.0    16.0   60304.0   0.0\n",
       "1   133     0.0   1.0    16.0  740288.0   0.0\n",
       "2   198     0.0   1.0    16.0  843168.0   0.0\n",
       "3   263     0.0   1.0    16.0  470000.0   0.0\n",
       "4   328     0.0   1.0    16.0  401904.0   0.0"
      ]
     },
     "execution_count": 94,
     "metadata": {},
     "output_type": "execute_result"
    }
   ],
   "source": [
    "# Regrouper les données(bw|lat) qui ont les dates d'arrivées en calcul la moyenne\n",
    "df_write_bw_mean = [df.groupby([\"date\"], as_index=False).mean() for df in df_write_bw]\n",
    "df_write_bw_mean[1].head()"
   ]
  },
  {
   "cell_type": "code",
   "execution_count": 95,
   "metadata": {},
   "outputs": [
    {
     "data": {
      "text/plain": [
       "123291     9.557333\n",
       "123292    10.752000\n",
       "123293     7.168000\n",
       "123294    10.240000\n",
       "123295     9.898667\n",
       "Name: bw|lat, dtype: float64"
      ]
     },
     "execution_count": 95,
     "metadata": {},
     "output_type": "execute_result"
    }
   ],
   "source": [
    "#données(bw) des lectures aleatoires par une taille de 4 bytes\n",
    "begin_time_bw4 = df_write_bw_mean[0][\"date\"][0]\n",
    "x_bw4 = (df_write_bw_mean[0][\"date\"] - begin_time_bw4)*ms_to_sec\n",
    "y_bw4 = (df_write_bw_mean[0][\"bw|lat\"])*kib_to_kb\n",
    "y_bw4.tail()"
   ]
  },
  {
   "cell_type": "code",
   "execution_count": 96,
   "metadata": {},
   "outputs": [
    {
     "data": {
      "image/png": "[encoded data removed]",
      "text/plain": [
       "<Figure size 864x216 with 1 Axes>"
      ]
     },
     "metadata": {
      "needs_background": "light"
     },
     "output_type": "display_data"
    }
   ],
   "source": [
    "#plot des bw des lectures aleatoires par un pas de 4 bytes\n",
    "plt.figure(figsize=(12, 3))\n",
    "plt.plot(x_bw4[:500], y_bw4[:500], \"-o\",linewidth =2.5)\n",
    "plt.xlabel(\"date d'arrivée(s)\")\n",
    "plt.ylabel(\"bw(kb/s)\")\n",
    "plt.title('bw des écritures aleatoires de 4 Bytes')\n",
    "plt.savefig(\"../outplot_fio/write/rand/bw/write4B.png\")\n",
    "plt.show()"
   ]
  },
  {
   "cell_type": "code",
   "execution_count": 97,
   "metadata": {},
   "outputs": [
    {
     "data": {
      "text/plain": [
       "30697    25.600\n",
       "30698    24.576\n",
       "30699    10.240\n",
       "30700    22.528\n",
       "30701    20.480\n",
       "Name: bw|lat, dtype: float64"
      ]
     },
     "execution_count": 97,
     "metadata": {},
     "output_type": "execute_result"
    }
   ],
   "source": [
    "#données(bw) des lectures seq par une taille de 16 bytes\n",
    "begin_time_bw16 = df_write_bw_mean[1][\"date\"][0]\n",
    "x_bw16 = (df_write_bw_mean[1][\"date\"] - begin_time_bw16)*ms_to_sec\n",
    "y_bw16 = (df_write_bw_mean[1][\"bw|lat\"])*kib_to_kb\n",
    "y_bw16.tail()"
   ]
  },
  {
   "cell_type": "code",
   "execution_count": 98,
   "metadata": {},
   "outputs": [
    {
     "data": {
      "image/png": "[encoded data removed]",
      "text/plain": [
       "<Figure size 864x216 with 1 Axes>"
      ]
     },
     "metadata": {
      "needs_background": "light"
     },
     "output_type": "display_data"
    }
   ],
   "source": [
    "#plot des bw des lectures seq par un pas de 16 bytes\n",
    "plt.figure(figsize=(12, 3))\n",
    "plt.plot(x_bw16[:500], y_bw16[:500], \"-o\",linewidth =2.5)\n",
    "plt.xlabel(\"date d'arrivée(s)\")\n",
    "plt.ylabel(\"bw(kb/s)\")\n",
    "plt.title('bw des écritures aleatoires de 16 Bytes')\n",
    "plt.savefig(\"../outplot_fio/write/rand/bw/write16B.png\")\n",
    "plt.show()"
   ]
  },
  {
   "cell_type": "code",
   "execution_count": 99,
   "metadata": {},
   "outputs": [
    {
     "data": {
      "text/plain": [
       "7750    175.616000\n",
       "7751    159.061333\n",
       "7752    181.248000\n",
       "7753    128.512000\n",
       "7754    184.320000\n",
       "Name: bw|lat, dtype: float64"
      ]
     },
     "execution_count": 99,
     "metadata": {},
     "output_type": "execute_result"
    }
   ],
   "source": [
    "#données(bw) des lectures seq par une taille de 64 bytes\n",
    "begin_time_bw64 = df_write_bw_mean[2][\"date\"][0]\n",
    "x_bw64 = (df_write_bw_mean[2][\"date\"] - begin_time_bw64)*ms_to_sec\n",
    "y_bw64 = (df_write_bw_mean[2][\"bw|lat\"])*kib_to_kb\n",
    "y_bw64.tail()"
   ]
  },
  {
   "cell_type": "code",
   "execution_count": 100,
   "metadata": {},
   "outputs": [
    {
     "data": {
      "image/png": "[encoded data removed]",
      "text/plain": [
       "<Figure size 864x216 with 1 Axes>"
      ]
     },
     "metadata": {
      "needs_background": "light"
     },
     "output_type": "display_data"
    }
   ],
   "source": [
    "#plot des bw des lectures seq par un pas de 64 bytes\n",
    "plt.figure(figsize=(12, 3))\n",
    "plt.plot(x_bw64[:500], y_bw64[:500], \"-o\",linewidth =2.5)\n",
    "plt.xlabel(\"date d'arrivée(s)\")\n",
    "plt.ylabel(\"bw(kb/s)\")\n",
    "plt.title('bw des lectures aleatoirs de 64 Bytes')\n",
    "plt.savefig(\"../outplot_fio/write/rand/bw/write64B.png\")\n",
    "plt.show()"
   ]
  },
  {
   "cell_type": "code",
   "execution_count": null,
   "metadata": {},
   "outputs": [],
   "source": []
  }
 ],
 "metadata": {
  "kernelspec": {
   "display_name": "Python 3",
   "language": "python",
   "name": "python3"
  },
  "language_info": {
   "codemirror_mode": {
    "name": "ipython",
    "version": 3
   },
   "file_extension": ".py",
   "mimetype": "text/x-python",
   "name": "python",
   "nbconvert_exporter": "python",
   "pygments_lexer": "ipython3",
   "version": "3.8.3"
  }
 },
 "nbformat": 4,
 "nbformat_minor": 4
}
