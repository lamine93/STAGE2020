{
 "cells": [
  {
   "cell_type": "code",
   "execution_count": 21,
   "metadata": {},
   "outputs": [],
   "source": [
    "import os \n",
    "from glob import glob\n",
    "import pandas as pd\n",
    "import numpy as np\n",
    "import matplotlib.pyplot as plt"
   ]
  },
  {
   "cell_type": "code",
   "execution_count": 60,
   "metadata": {},
   "outputs": [],
   "source": [
    "PATH = \"../fio/read\"\n",
    "EXT = \"*.log\""
   ]
  },
  {
   "cell_type": "code",
   "execution_count": 61,
   "metadata": {},
   "outputs": [],
   "source": [
    "#load data\n",
    "all_csv_files = [file\n",
    "                 for path, subdir, files in os.walk(PATH)\n",
    "                 for file in glob(os.path.join(path, EXT))]"
   ]
  },
  {
   "cell_type": "code",
   "execution_count": 62,
   "metadata": {},
   "outputs": [
    {
     "data": {
      "text/plain": [
       "['../fio/read/trace_read16B_bw.log',\n",
       " '../fio/read/trace_read16B_lat.log',\n",
       " '../fio/read/trace_read4B_bw.log',\n",
       " '../fio/read/trace_read4B_lat.log',\n",
       " '../fio/read/trace_read64B_bw.log',\n",
       " '../fio/read/trace_read64B_lat.log']"
      ]
     },
     "execution_count": 62,
     "metadata": {},
     "output_type": "execute_result"
    }
   ],
   "source": [
    "all_csv_files.sort()\n",
    "all_csv_files"
   ]
  },
  {
   "cell_type": "code",
   "execution_count": 80,
   "metadata": {},
   "outputs": [],
   "source": [
    "#read csv data \n",
    "#pd.options.display.float_format = '{:.6f}'.format\n",
    "#date d'arrivée --> milliseconde\n",
    "#bw/lat---> KiB/sec|nanoseconde \n",
    "#type---> read=0|write=1 \n",
    "#taille/offset---> Bytes\n",
    "df_read = [pd.read_csv(file, delimiter=\",\", names=[\"date\", \"bw|lat\", \"type\",\"taille\", \"offset\", \"prio\"]) \n",
    "                                             for file in all_csv_files]"
   ]
  },
  {
   "cell_type": "code",
   "execution_count": 81,
   "metadata": {},
   "outputs": [
    {
     "data": {
      "text/plain": [
       "Index(['date', 'bw|lat', 'type', 'taille', 'offset', 'prio'], dtype='object')"
      ]
     },
     "execution_count": 81,
     "metadata": {},
     "output_type": "execute_result"
    }
   ],
   "source": [
    "df_read[0].columns"
   ]
  },
  {
   "cell_type": "code",
   "execution_count": 120,
   "metadata": {},
   "outputs": [
    {
     "data": {
      "text/html": [
       "<div>\n",
       "<style scoped>\n",
       "    .dataframe tbody tr th:only-of-type {\n",
       "        vertical-align: middle;\n",
       "    }\n",
       "\n",
       "    .dataframe tbody tr th {\n",
       "        vertical-align: top;\n",
       "    }\n",
       "\n",
       "    .dataframe thead th {\n",
       "        text-align: right;\n",
       "    }\n",
       "</style>\n",
       "<table border=\"1\" class=\"dataframe\">\n",
       "  <thead>\n",
       "    <tr style=\"text-align: right;\">\n",
       "      <th></th>\n",
       "      <th>date</th>\n",
       "      <th>bw|lat</th>\n",
       "      <th>type</th>\n",
       "      <th>taille</th>\n",
       "      <th>offset</th>\n",
       "      <th>prio</th>\n",
       "    </tr>\n",
       "  </thead>\n",
       "  <tbody>\n",
       "    <tr>\n",
       "      <th>0</th>\n",
       "      <td>4</td>\n",
       "      <td>3</td>\n",
       "      <td>0</td>\n",
       "      <td>16</td>\n",
       "      <td>0</td>\n",
       "      <td>0</td>\n",
       "    </tr>\n",
       "    <tr>\n",
       "      <th>1</th>\n",
       "      <td>4</td>\n",
       "      <td>3929</td>\n",
       "      <td>0</td>\n",
       "      <td>16</td>\n",
       "      <td>16</td>\n",
       "      <td>0</td>\n",
       "    </tr>\n",
       "    <tr>\n",
       "      <th>2</th>\n",
       "      <td>4</td>\n",
       "      <td>10876</td>\n",
       "      <td>0</td>\n",
       "      <td>16</td>\n",
       "      <td>32</td>\n",
       "      <td>0</td>\n",
       "    </tr>\n",
       "    <tr>\n",
       "      <th>3</th>\n",
       "      <td>4</td>\n",
       "      <td>10745</td>\n",
       "      <td>0</td>\n",
       "      <td>16</td>\n",
       "      <td>48</td>\n",
       "      <td>0</td>\n",
       "    </tr>\n",
       "    <tr>\n",
       "      <th>4</th>\n",
       "      <td>4</td>\n",
       "      <td>11103</td>\n",
       "      <td>0</td>\n",
       "      <td>16</td>\n",
       "      <td>64</td>\n",
       "      <td>0</td>\n",
       "    </tr>\n",
       "  </tbody>\n",
       "</table>\n",
       "</div>"
      ],
      "text/plain": [
       "   date  bw|lat  type  taille  offset  prio\n",
       "0     4       3     0      16       0     0\n",
       "1     4    3929     0      16      16     0\n",
       "2     4   10876     0      16      32     0\n",
       "3     4   10745     0      16      48     0\n",
       "4     4   11103     0      16      64     0"
      ]
     },
     "execution_count": 120,
     "metadata": {},
     "output_type": "execute_result"
    }
   ],
   "source": [
    "#Bandwiths respectivements pour les tailles 4B, 16B, 64B\n",
    "df_read_bw = [df_read[2], df_read[0],df_read[4]]\n",
    "\n",
    "#Latence respectivements pour les tailles 4B, 16B, 64B\n",
    "df_read_lat = [df_read[3], df_read[1],df_read[5]]\n",
    "\n",
    "df_read_bw[1].head()"
   ]
  },
  {
   "cell_type": "code",
   "execution_count": 129,
   "metadata": {},
   "outputs": [
    {
     "data": {
      "text/html": [
       "<div>\n",
       "<style scoped>\n",
       "    .dataframe tbody tr th:only-of-type {\n",
       "        vertical-align: middle;\n",
       "    }\n",
       "\n",
       "    .dataframe tbody tr th {\n",
       "        vertical-align: top;\n",
       "    }\n",
       "\n",
       "    .dataframe thead th {\n",
       "        text-align: right;\n",
       "    }\n",
       "</style>\n",
       "<table border=\"1\" class=\"dataframe\">\n",
       "  <thead>\n",
       "    <tr style=\"text-align: right;\">\n",
       "      <th></th>\n",
       "      <th>date</th>\n",
       "      <th>bw|lat</th>\n",
       "      <th>type</th>\n",
       "      <th>taille</th>\n",
       "      <th>offset</th>\n",
       "      <th>prio</th>\n",
       "    </tr>\n",
       "  </thead>\n",
       "  <tbody>\n",
       "    <tr>\n",
       "      <th>0</th>\n",
       "      <td>3</td>\n",
       "      <td>2748.380835</td>\n",
       "      <td>0.000000</td>\n",
       "      <td>4.000000</td>\n",
       "      <td>812.000000</td>\n",
       "      <td>0.000000</td>\n",
       "    </tr>\n",
       "    <tr>\n",
       "      <th>1</th>\n",
       "      <td>4</td>\n",
       "      <td>2490.550761</td>\n",
       "      <td>0.000000</td>\n",
       "      <td>4.000000</td>\n",
       "      <td>2414.000000</td>\n",
       "      <td>0.000000</td>\n",
       "    </tr>\n",
       "    <tr>\n",
       "      <th>2</th>\n",
       "      <td>5</td>\n",
       "      <td>2248.375887</td>\n",
       "      <td>0.000000</td>\n",
       "      <td>4.000000</td>\n",
       "      <td>3766.000000</td>\n",
       "      <td>0.000000</td>\n",
       "    </tr>\n",
       "    <tr>\n",
       "      <th>3</th>\n",
       "      <td>6</td>\n",
       "      <td>3452.939450</td>\n",
       "      <td>0.000000</td>\n",
       "      <td>4.000000</td>\n",
       "      <td>5420.000000</td>\n",
       "      <td>0.000000</td>\n",
       "    </tr>\n",
       "    <tr>\n",
       "      <th>4</th>\n",
       "      <td>7</td>\n",
       "      <td>3462.548611</td>\n",
       "      <td>0.000000</td>\n",
       "      <td>4.000000</td>\n",
       "      <td>7662.000000</td>\n",
       "      <td>0.000000</td>\n",
       "    </tr>\n",
       "  </tbody>\n",
       "</table>\n",
       "</div>"
      ],
      "text/plain": [
       "   date      bw|lat     type   taille      offset     prio\n",
       "0     3 2748.380835 0.000000 4.000000  812.000000 0.000000\n",
       "1     4 2490.550761 0.000000 4.000000 2414.000000 0.000000\n",
       "2     5 2248.375887 0.000000 4.000000 3766.000000 0.000000\n",
       "3     6 3452.939450 0.000000 4.000000 5420.000000 0.000000\n",
       "4     7 3462.548611 0.000000 4.000000 7662.000000 0.000000"
      ]
     },
     "execution_count": 129,
     "metadata": {},
     "output_type": "execute_result"
    }
   ],
   "source": [
    "# Regrouper les données(bw|lat) qui ont les dates d'arrivées en calcul la moyenne\n",
    "df_read_bw_mean = [df.groupby([\"date\"], as_index=False).mean() for df in df_read_bw]\n",
    "df_read_bw_mean[0].head()"
   ]
  },
  {
   "cell_type": "code",
   "execution_count": 130,
   "metadata": {},
   "outputs": [
    {
     "data": {
      "text/html": [
       "<div>\n",
       "<style scoped>\n",
       "    .dataframe tbody tr th:only-of-type {\n",
       "        vertical-align: middle;\n",
       "    }\n",
       "\n",
       "    .dataframe tbody tr th {\n",
       "        vertical-align: top;\n",
       "    }\n",
       "\n",
       "    .dataframe thead th {\n",
       "        text-align: right;\n",
       "    }\n",
       "</style>\n",
       "<table border=\"1\" class=\"dataframe\">\n",
       "  <thead>\n",
       "    <tr style=\"text-align: right;\">\n",
       "      <th></th>\n",
       "      <th>date</th>\n",
       "      <th>bw|lat</th>\n",
       "      <th>type</th>\n",
       "      <th>taille</th>\n",
       "      <th>offset</th>\n",
       "      <th>prio</th>\n",
       "    </tr>\n",
       "  </thead>\n",
       "  <tbody>\n",
       "    <tr>\n",
       "      <th>365</th>\n",
       "      <td>368</td>\n",
       "      <td>907.021684</td>\n",
       "      <td>0.000000</td>\n",
       "      <td>4.000000</td>\n",
       "      <td>987370.000000</td>\n",
       "      <td>0.000000</td>\n",
       "    </tr>\n",
       "    <tr>\n",
       "      <th>366</th>\n",
       "      <td>369</td>\n",
       "      <td>939.864486</td>\n",
       "      <td>0.000000</td>\n",
       "      <td>4.000000</td>\n",
       "      <td>990222.000000</td>\n",
       "      <td>0.000000</td>\n",
       "    </tr>\n",
       "    <tr>\n",
       "      <th>367</th>\n",
       "      <td>370</td>\n",
       "      <td>842.986503</td>\n",
       "      <td>0.000000</td>\n",
       "      <td>4.000000</td>\n",
       "      <td>993136.000000</td>\n",
       "      <td>0.000000</td>\n",
       "    </tr>\n",
       "    <tr>\n",
       "      <th>368</th>\n",
       "      <td>371</td>\n",
       "      <td>842.729892</td>\n",
       "      <td>0.000000</td>\n",
       "      <td>4.000000</td>\n",
       "      <td>996432.000000</td>\n",
       "      <td>0.000000</td>\n",
       "    </tr>\n",
       "    <tr>\n",
       "      <th>369</th>\n",
       "      <td>372</td>\n",
       "      <td>846.966316</td>\n",
       "      <td>0.000000</td>\n",
       "      <td>4.000000</td>\n",
       "      <td>999048.000000</td>\n",
       "      <td>0.000000</td>\n",
       "    </tr>\n",
       "  </tbody>\n",
       "</table>\n",
       "</div>"
      ],
      "text/plain": [
       "     date     bw|lat     type   taille        offset     prio\n",
       "365   368 907.021684 0.000000 4.000000 987370.000000 0.000000\n",
       "366   369 939.864486 0.000000 4.000000 990222.000000 0.000000\n",
       "367   370 842.986503 0.000000 4.000000 993136.000000 0.000000\n",
       "368   371 842.729892 0.000000 4.000000 996432.000000 0.000000\n",
       "369   372 846.966316 0.000000 4.000000 999048.000000 0.000000"
      ]
     },
     "execution_count": 130,
     "metadata": {},
     "output_type": "execute_result"
    }
   ],
   "source": [
    "# Regrouper les données(bw|lat) qui ont les dates d'arrivées en calcul la moyenne\n",
    "df_read_lat_mean = [df.groupby([\"date\"], as_index=False).mean() for df in df_read_lat]\n",
    "df_read_lat_mean[0].tail()"
   ]
  },
  {
   "cell_type": "code",
   "execution_count": 132,
   "metadata": {},
   "outputs": [
    {
     "data": {
      "text/plain": [
       "0   8433.631450\n",
       "1   1723.017766\n",
       "2   2055.212766\n",
       "3   1329.647706\n",
       "4   1211.015625\n",
       "Name: bw|lat, dtype: float64"
      ]
     },
     "execution_count": 132,
     "metadata": {},
     "output_type": "execute_result"
    }
   ],
   "source": [
    "#données des lectures seq par un pas de 4 bytes\n",
    "begin_time_lat4 = df_read_lat_mean[0][\"date\"][0]\n",
    "x_lat4 = df_read_lat_mean[0][\"date\"] - begin_time_lat4\n",
    "y_lat4 = (df_read_lat_mean[0][\"bw|lat\"])*1e-9\n",
    "y_lat4.head()"
   ]
  },
  {
   "cell_type": "code",
   "execution_count": 133,
   "metadata": {},
   "outputs": [
    {
     "data": {
      "image/png": "[encoded data removed]",
      "text/plain": [
       "<Figure size 864x216 with 1 Axes>"
      ]
     },
     "metadata": {
      "needs_background": "light"
     },
     "output_type": "display_data"
    }
   ],
   "source": [
    "#plot des données des lectures seq par un pas de 4 bytes\n",
    "plt.figure(figsize=(12, 3))\n",
    "plt.plot(x_lat4, y_lat4, \"-o\",linewidth =2.5)\n",
    "plt.xlabel(\"date d'arrivée(s)\")\n",
    "plt.ylabel(\"latence(s)\")\n",
    "plt.title('latence des lectures sequentielles de 4 Bytes')\n",
    "plt.savefig(\"../outplot_fio/read/seq/latence/read4B.png\")\n",
    "plt.show()"
   ]
  },
  {
   "cell_type": "code",
   "execution_count": 127,
   "metadata": {},
   "outputs": [
    {
     "data": {
      "text/plain": [
       "49995   0.000011\n",
       "49996   0.000011\n",
       "49997   0.000010\n",
       "49998   0.000011\n",
       "49999   0.000010\n",
       "Name: latence, dtype: float64"
      ]
     },
     "execution_count": 127,
     "metadata": {},
     "output_type": "execute_result"
    }
   ],
   "source": [
    "#données des lectures seq par un pas de 16 bytes\n",
    "begin_time_seq16 = df_read[0][\"temps\"][0]\n",
    "x_seq16 = df_read[0][\"temps\"] - begin_time_seq16\n",
    "y_seq16 = df_read[0][\"latence\"]\n",
    "y_seq16.tail()"
   ]
  },
  {
   "cell_type": "code",
   "execution_count": 128,
   "metadata": {},
   "outputs": [
    {
     "data": {
      "image/png": "[encoded data removed]",
      "text/plain": [
       "<Figure size 864x216 with 1 Axes>"
      ]
     },
     "metadata": {
      "needs_background": "light"
     },
     "output_type": "display_data"
    }
   ],
   "source": [
    "#plot des données des lectures seq par un pas de 16 bytes\n",
    "plt.figure(figsize=(12, 3))\n",
    "plt.plot(x_seq16[:500], y_seq16[:500], \"-o\",linewidth =2.5)\n",
    "plt.xlabel(\"date d'arrivée(s)\")\n",
    "plt.ylabel(\"latence(s)\")\n",
    "plt.title('lecture de 4 Bytes par un pas de 16 Bytes')\n",
    "plt.savefig(\"../outplot/read4B/read_step16.png\")\n",
    "plt.show()"
   ]
  },
  {
   "cell_type": "code",
   "execution_count": 93,
   "metadata": {},
   "outputs": [
    {
     "data": {
      "text/plain": [
       "0   0.000293\n",
       "1   0.000019\n",
       "2   0.000388\n",
       "3   0.000018\n",
       "4   0.000059\n",
       "Name: latence, dtype: float64"
      ]
     },
     "execution_count": 93,
     "metadata": {},
     "output_type": "execute_result"
    }
   ],
   "source": [
    "#données des lectures seq par un pas de 32 bytes\n",
    "begin_time_seq32 = df_read[1][\"temps\"][0]\n",
    "x_seq32 = df_read[1][\"temps\"] - begin_time_seq32\n",
    "y_seq32 = df_read[1][\"latence\"]\n",
    "y_seq32.head()"
   ]
  },
  {
   "cell_type": "code",
   "execution_count": 94,
   "metadata": {},
   "outputs": [
    {
     "data": {
      "image/png": "[encoded data removed]",
      "text/plain": [
       "<Figure size 864x216 with 1 Axes>"
      ]
     },
     "metadata": {
      "needs_background": "light"
     },
     "output_type": "display_data"
    }
   ],
   "source": [
    "#plot des données des lectures seq par un pas de 32 bytes\n",
    "plt.figure(figsize=(12, 3))\n",
    "plt.plot(x_seq32[:500], y_seq32[:500], \"-o\",linewidth =2.5)\n",
    "plt.xlabel(\"date d'arrivée(s)\")\n",
    "plt.ylabel(\"latence(s)\")\n",
    "plt.title('lecture de 4 Bytes par un pas de 32 Bytes')\n",
    "plt.savefig(\"../outplot/read4B/read_step32.png\")\n",
    "plt.show()"
   ]
  },
  {
   "cell_type": "code",
   "execution_count": 131,
   "metadata": {},
   "outputs": [
    {
     "data": {
      "text/plain": [
       "0   0.000015\n",
       "1   0.000013\n",
       "2   0.000021\n",
       "3   0.000019\n",
       "4   0.000025\n",
       "Name: latence, dtype: float64"
      ]
     },
     "execution_count": 131,
     "metadata": {},
     "output_type": "execute_result"
    }
   ],
   "source": [
    "#données des lectures aléatoires par un pas de 64 bytes\n",
    "begin_time_seq64 = df_read[2][\"temps\"][0]\n",
    "x_seq64 = df_read[2][\"temps\"] - begin_time_seq64\n",
    "y_seq64 = df_read[2][\"latence\"]\n",
    "y_seq64.head()"
   ]
  },
  {
   "cell_type": "code",
   "execution_count": 132,
   "metadata": {},
   "outputs": [
    {
     "data": {
      "image/png": "[encoded data removed]",
      "text/plain": [
       "<Figure size 864x216 with 1 Axes>"
      ]
     },
     "metadata": {
      "needs_background": "light"
     },
     "output_type": "display_data"
    }
   ],
   "source": [
    "#plot des données des lectures seq par un pas de 64 bytes\n",
    "plt.figure(figsize=(12, 3))\n",
    "plt.plot(x_seq64[:500], y_seq64[:500], \"-o\",linewidth =2.5)\n",
    "plt.xlabel(\"date d'arrivée(s)\")\n",
    "plt.ylabel(\"latence(s)\")\n",
    "plt.title('lecture de 4 Bytes par un pas de 64 Bytes')\n",
    "plt.savefig(\"../outplot/read4B/read_step64.png\")\n",
    "plt.show()"
   ]
  },
  {
   "cell_type": "code",
   "execution_count": null,
   "metadata": {},
   "outputs": [],
   "source": []
  }
 ],
 "metadata": {
  "kernelspec": {
   "display_name": "Python 3",
   "language": "python",
   "name": "python3"
  },
  "language_info": {
   "codemirror_mode": {
    "name": "ipython",
    "version": 3
   },
   "file_extension": ".py",
   "mimetype": "text/x-python",
   "name": "python",
   "nbconvert_exporter": "python",
   "pygments_lexer": "ipython3",
   "version": "3.8.3"
  }
 },
 "nbformat": 4,
 "nbformat_minor": 4
}
