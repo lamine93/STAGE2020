{
 "cells": [
  {
   "cell_type": "code",
   "execution_count": 1,
   "metadata": {},
   "outputs": [],
   "source": [
    "import os \n",
    "from glob import glob\n",
    "import pandas as pd\n",
    "import numpy as np\n",
    "import matplotlib.pyplot as plt"
   ]
  },
  {
   "cell_type": "code",
   "execution_count": 2,
   "metadata": {},
   "outputs": [],
   "source": [
    "PATH = \"../src/data_read_rand\"\n",
    "EXT = \"*.csv\""
   ]
  },
  {
   "cell_type": "code",
   "execution_count": 3,
   "metadata": {},
   "outputs": [],
   "source": [
    "all_csv_files = [file\n",
    "                 for path, subdir, files in os.walk(PATH)\n",
    "                 for file in glob(os.path.join(path, EXT))]"
   ]
  },
  {
   "cell_type": "code",
   "execution_count": 4,
   "metadata": {},
   "outputs": [
    {
     "data": {
      "text/plain": [
       "['../src/data_read_rand/trace_rread64B.csv',\n",
       " '../src/data_read_rand/trace_rread4B.csv',\n",
       " '../src/data_read_rand/trace_rread16B.csv']"
      ]
     },
     "execution_count": 4,
     "metadata": {},
     "output_type": "execute_result"
    }
   ],
   "source": [
    "all_csv_files"
   ]
  },
  {
   "cell_type": "code",
   "execution_count": 5,
   "metadata": {},
   "outputs": [],
   "source": [
    "pd.options.display.float_format = '{:.6f}'.format\n",
    "df_read = [pd.read_csv(file, delimiter=\" \") for file in all_csv_files]"
   ]
  },
  {
   "cell_type": "code",
   "execution_count": 6,
   "metadata": {},
   "outputs": [
    {
     "data": {
      "text/html": [
       "<div>\n",
       "<style scoped>\n",
       "    .dataframe tbody tr th:only-of-type {\n",
       "        vertical-align: middle;\n",
       "    }\n",
       "\n",
       "    .dataframe tbody tr th {\n",
       "        vertical-align: top;\n",
       "    }\n",
       "\n",
       "    .dataframe thead th {\n",
       "        text-align: right;\n",
       "    }\n",
       "</style>\n",
       "<table border=\"1\" class=\"dataframe\">\n",
       "  <thead>\n",
       "    <tr style=\"text-align: right;\">\n",
       "      <th></th>\n",
       "      <th>temps</th>\n",
       "      <th>type</th>\n",
       "      <th>taille</th>\n",
       "      <th>latence</th>\n",
       "    </tr>\n",
       "  </thead>\n",
       "  <tbody>\n",
       "    <tr>\n",
       "      <th>0</th>\n",
       "      <td>1597761690.052944</td>\n",
       "      <td>read</td>\n",
       "      <td>64</td>\n",
       "      <td>0.000068</td>\n",
       "    </tr>\n",
       "    <tr>\n",
       "      <th>1</th>\n",
       "      <td>1597761690.053514</td>\n",
       "      <td>read</td>\n",
       "      <td>64</td>\n",
       "      <td>0.000030</td>\n",
       "    </tr>\n",
       "    <tr>\n",
       "      <th>2</th>\n",
       "      <td>1597761690.053708</td>\n",
       "      <td>read</td>\n",
       "      <td>64</td>\n",
       "      <td>0.000024</td>\n",
       "    </tr>\n",
       "    <tr>\n",
       "      <th>3</th>\n",
       "      <td>1597761690.054293</td>\n",
       "      <td>read</td>\n",
       "      <td>64</td>\n",
       "      <td>0.000027</td>\n",
       "    </tr>\n",
       "    <tr>\n",
       "      <th>4</th>\n",
       "      <td>1597761690.054461</td>\n",
       "      <td>read</td>\n",
       "      <td>64</td>\n",
       "      <td>0.000025</td>\n",
       "    </tr>\n",
       "  </tbody>\n",
       "</table>\n",
       "</div>"
      ],
      "text/plain": [
       "              temps  type  taille  latence\n",
       "0 1597761690.052944  read      64 0.000068\n",
       "1 1597761690.053514  read      64 0.000030\n",
       "2 1597761690.053708  read      64 0.000024\n",
       "3 1597761690.054293  read      64 0.000027\n",
       "4 1597761690.054461  read      64 0.000025"
      ]
     },
     "execution_count": 6,
     "metadata": {},
     "output_type": "execute_result"
    }
   ],
   "source": [
    "df_read[0].head()"
   ]
  },
  {
   "cell_type": "code",
   "execution_count": 7,
   "metadata": {},
   "outputs": [
    {
     "data": {
      "text/plain": [
       "Index(['temps', 'type', 'taille', 'latence'], dtype='object')"
      ]
     },
     "execution_count": 7,
     "metadata": {},
     "output_type": "execute_result"
    }
   ],
   "source": [
    "df_read[0].columns"
   ]
  },
  {
   "cell_type": "code",
   "execution_count": 8,
   "metadata": {},
   "outputs": [
    {
     "data": {
      "text/plain": [
       "0   0.000068\n",
       "1   0.000030\n",
       "2   0.000024\n",
       "3   0.000027\n",
       "4   0.000025\n",
       "Name: latence, dtype: float64"
      ]
     },
     "execution_count": 8,
     "metadata": {},
     "output_type": "execute_result"
    }
   ],
   "source": [
    "#données des lectures aléatoires\n",
    "begin_time_rand64 = df_read[0][\"temps\"][0]\n",
    "x_rand64 = df_read[0][\"temps\"] - begin_time_rand64\n",
    "y_rand64 = df_read[0][\"latence\"]\n",
    "y_rand64.head()"
   ]
  },
  {
   "cell_type": "code",
   "execution_count": 12,
   "metadata": {},
   "outputs": [
    {
     "data": {
      "image/png": "[encoded data removed]",
      "text/plain": [
       "<Figure size 864x216 with 1 Axes>"
      ]
     },
     "metadata": {
      "needs_background": "light"
     },
     "output_type": "display_data"
    }
   ],
   "source": [
    "#plot données des lectures aléatoire\n",
    "plt.figure(figsize=(12, 3))\n",
    "plt.plot(x_rand64[0:500], y_rand64[0:500], \"-o\",linewidth =2.5)\n",
    "plt.xlabel(\"date d'arrivée(s)\")\n",
    "plt.ylabel(\"latence(s)\")\n",
    "plt.title('lecture aléatoire de 64 bytes')\n",
    "plt.savefig(\"../outplot/read/rand/read_rand64.png\")\n",
    "plt.show()"
   ]
  },
  {
   "cell_type": "code",
   "execution_count": 17,
   "metadata": {},
   "outputs": [
    {
     "data": {
      "text/plain": [
       "0   0.000019\n",
       "1   0.000012\n",
       "2   0.000010\n",
       "3   0.000022\n",
       "4   0.000017\n",
       "Name: latence, dtype: float64"
      ]
     },
     "execution_count": 17,
     "metadata": {},
     "output_type": "execute_result"
    }
   ],
   "source": [
    "#données des lectures aléatoires de 4 bytes\n",
    "begin_time_rand4 = df_read[1][\"temps\"][0]\n",
    "x_rand4 = df_read[1][\"temps\"] - begin_time_rand4\n",
    "y_rand4 = df_read[1][\"latence\"]\n",
    "y_rand4.head()"
   ]
  },
  {
   "cell_type": "code",
   "execution_count": 18,
   "metadata": {},
   "outputs": [
    {
     "data": {
      "text/plain": [
       "count   250001.000000\n",
       "mean         0.000022\n",
       "std          0.000130\n",
       "min          0.000006\n",
       "25%          0.000010\n",
       "50%          0.000011\n",
       "75%          0.000014\n",
       "max          0.010472\n",
       "Name: latence, dtype: float64"
      ]
     },
     "execution_count": 18,
     "metadata": {},
     "output_type": "execute_result"
    }
   ],
   "source": [
    "df_read[1][\"latence\"].describe()"
   ]
  },
  {
   "cell_type": "code",
   "execution_count": 14,
   "metadata": {},
   "outputs": [
    {
     "data": {
      "image/png": "[encoded data removed]",
      "text/plain": [
       "<Figure size 864x216 with 1 Axes>"
      ]
     },
     "metadata": {
      "needs_background": "light"
     },
     "output_type": "display_data"
    }
   ],
   "source": [
    "#plot données des lectures sequentielles\n",
    "plt.figure(figsize=(12, 3))\n",
    "plt.plot(x_rand4[0:500], y_rand4[0:500], \"-o\",linewidth =2.5)\n",
    "plt.xlabel(\"date d'arrivée(s)\")\n",
    "plt.ylabel(\"latence(s)\")\n",
    "plt.title('lecture aléatoire de 4 bytes')\n",
    "plt.savefig(\"../outplot/read/rand/read_rand4.png\")\n",
    "plt.show()"
   ]
  },
  {
   "cell_type": "code",
   "execution_count": 15,
   "metadata": {},
   "outputs": [
    {
     "data": {
      "text/plain": [
       "0   0.000015\n",
       "1   0.000014\n",
       "2   0.000013\n",
       "3   0.000017\n",
       "4   0.000015\n",
       "Name: latence, dtype: float64"
      ]
     },
     "execution_count": 15,
     "metadata": {},
     "output_type": "execute_result"
    }
   ],
   "source": [
    "#données des lectures aléatoires de 16 bytes\n",
    "begin_time_rand16 = df_read[2][\"temps\"][0]\n",
    "x_rand16 = df_read[2][\"temps\"] - begin_time_rand16\n",
    "y_rand16 = df_read[2][\"latence\"]\n",
    "y_rand16.head()"
   ]
  },
  {
   "cell_type": "code",
   "execution_count": 16,
   "metadata": {},
   "outputs": [
    {
     "data": {
      "image/png": "[encoded data removed]",
      "text/plain": [
       "<Figure size 864x216 with 1 Axes>"
      ]
     },
     "metadata": {
      "needs_background": "light"
     },
     "output_type": "display_data"
    }
   ],
   "source": [
    "#plot données des lectures sequentielles 16 bytes\n",
    "plt.figure(figsize=(12, 3))\n",
    "plt.plot(x_rand16[0:500], y_rand16[0:500], \"-o\",linewidth =2.5)\n",
    "plt.xlabel(\"date d'arrivée(s)\")\n",
    "plt.ylabel(\"latence(s)\")\n",
    "plt.title('lecture aléatoire de 16 bytes')\n",
    "plt.savefig(\"../outplot/read/rand/read_rand16.png\")\n",
    "plt.show()"
   ]
  },
  {
   "cell_type": "code",
   "execution_count": null,
   "metadata": {},
   "outputs": [],
   "source": []
  }
 ],
 "metadata": {
  "kernelspec": {
   "display_name": "Python 3",
   "language": "python",
   "name": "python3"
  },
  "language_info": {
   "codemirror_mode": {
    "name": "ipython",
    "version": 3
   },
   "file_extension": ".py",
   "mimetype": "text/x-python",
   "name": "python",
   "nbconvert_exporter": "python",
   "pygments_lexer": "ipython3",
   "version": "3.8.3"
  }
 },
 "nbformat": 4,
 "nbformat_minor": 4
}
