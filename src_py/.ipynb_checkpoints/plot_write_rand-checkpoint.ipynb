{
 "cells": [
  {
   "cell_type": "code",
   "execution_count": 1,
   "metadata": {},
   "outputs": [],
   "source": [
    "import os \n",
    "from glob import glob\n",
    "import pandas as pd\n",
    "import numpy as np\n",
    "import matplotlib.pyplot as plt"
   ]
  },
  {
   "cell_type": "code",
   "execution_count": 2,
   "metadata": {},
   "outputs": [],
   "source": [
    "PATH = \"../src/data_write_rand\"\n",
    "EXT = \"*.csv\""
   ]
  },
  {
   "cell_type": "code",
   "execution_count": 3,
   "metadata": {},
   "outputs": [],
   "source": [
    "all_csv_files = [file\n",
    "                 for path, subdir, files in os.walk(PATH)\n",
    "                 for file in glob(os.path.join(path, EXT))]"
   ]
  },
  {
   "cell_type": "code",
   "execution_count": 4,
   "metadata": {},
   "outputs": [
    {
     "data": {
      "text/plain": [
       "['../src/data_write_rand/trace_rwrite16B.csv',\n",
       " '../src/data_write_rand/trace_rwrite32B.csv',\n",
       " '../src/data_write_rand/trace_rwrite1B.csv',\n",
       " '../src/data_write_rand/trace_rwrite8B.csv',\n",
       " '../src/data_write_rand/trace_rwrite64B.csv',\n",
       " '../src/data_write_rand/trace_rwrite4B.csv']"
      ]
     },
     "execution_count": 4,
     "metadata": {},
     "output_type": "execute_result"
    }
   ],
   "source": [
    "all_csv_files"
   ]
  },
  {
   "cell_type": "code",
   "execution_count": 5,
   "metadata": {},
   "outputs": [],
   "source": [
    "pd.options.display.float_format = '{:.6f}'.format\n",
    "df_write = [pd.read_csv(file, delimiter=\" \") for file in all_csv_files]"
   ]
  },
  {
   "cell_type": "code",
   "execution_count": 6,
   "metadata": {},
   "outputs": [
    {
     "data": {
      "text/html": [
       "<div>\n",
       "<style scoped>\n",
       "    .dataframe tbody tr th:only-of-type {\n",
       "        vertical-align: middle;\n",
       "    }\n",
       "\n",
       "    .dataframe tbody tr th {\n",
       "        vertical-align: top;\n",
       "    }\n",
       "\n",
       "    .dataframe thead th {\n",
       "        text-align: right;\n",
       "    }\n",
       "</style>\n",
       "<table border=\"1\" class=\"dataframe\">\n",
       "  <thead>\n",
       "    <tr style=\"text-align: right;\">\n",
       "      <th></th>\n",
       "      <th>temps</th>\n",
       "      <th>type</th>\n",
       "      <th>taille</th>\n",
       "      <th>latence</th>\n",
       "    </tr>\n",
       "  </thead>\n",
       "  <tbody>\n",
       "    <tr>\n",
       "      <th>0</th>\n",
       "      <td>1597075566.304200</td>\n",
       "      <td>write</td>\n",
       "      <td>16</td>\n",
       "      <td>0.001464</td>\n",
       "    </tr>\n",
       "    <tr>\n",
       "      <th>1</th>\n",
       "      <td>1597075566.305841</td>\n",
       "      <td>write</td>\n",
       "      <td>16</td>\n",
       "      <td>0.000756</td>\n",
       "    </tr>\n",
       "    <tr>\n",
       "      <th>2</th>\n",
       "      <td>1597075566.306716</td>\n",
       "      <td>write</td>\n",
       "      <td>16</td>\n",
       "      <td>0.000436</td>\n",
       "    </tr>\n",
       "    <tr>\n",
       "      <th>3</th>\n",
       "      <td>1597075566.307244</td>\n",
       "      <td>write</td>\n",
       "      <td>16</td>\n",
       "      <td>0.000431</td>\n",
       "    </tr>\n",
       "    <tr>\n",
       "      <th>4</th>\n",
       "      <td>1597075566.307786</td>\n",
       "      <td>write</td>\n",
       "      <td>16</td>\n",
       "      <td>0.000926</td>\n",
       "    </tr>\n",
       "  </tbody>\n",
       "</table>\n",
       "</div>"
      ],
      "text/plain": [
       "              temps   type  taille  latence\n",
       "0 1597075566.304200  write      16 0.001464\n",
       "1 1597075566.305841  write      16 0.000756\n",
       "2 1597075566.306716  write      16 0.000436\n",
       "3 1597075566.307244  write      16 0.000431\n",
       "4 1597075566.307786  write      16 0.000926"
      ]
     },
     "execution_count": 6,
     "metadata": {},
     "output_type": "execute_result"
    }
   ],
   "source": [
    "# 0 seq  1 rand\n",
    "df_write[0].head()"
   ]
  },
  {
   "cell_type": "code",
   "execution_count": 7,
   "metadata": {},
   "outputs": [
    {
     "data": {
      "text/plain": [
       "Index(['temps', 'type', 'taille', 'latence'], dtype='object')"
      ]
     },
     "execution_count": 7,
     "metadata": {},
     "output_type": "execute_result"
    }
   ],
   "source": [
    "df_write[0].columns"
   ]
  },
  {
   "cell_type": "code",
   "execution_count": 9,
   "metadata": {},
   "outputs": [
    {
     "data": {
      "text/plain": [
       "0   0.000993\n",
       "1   0.000419\n",
       "2   0.000381\n",
       "3   0.000760\n",
       "4   0.001152\n",
       "Name: latence, dtype: float64"
      ]
     },
     "execution_count": 9,
     "metadata": {},
     "output_type": "execute_result"
    }
   ],
   "source": [
    "#données des lectures aléatoire 1 bytes\n",
    "begin_time_rand1 = df_write[2][\"temps\"][0]\n",
    "x_rand1 = df_write[2][\"temps\"] - begin_time_rand1\n",
    "y_rand1 = df_write[2][\"latence\"]\n",
    "y_rand1.head()"
   ]
  },
  {
   "cell_type": "code",
   "execution_count": 10,
   "metadata": {},
   "outputs": [
    {
     "data": {
      "image/png": "[encoded data removed]",
      "text/plain": [
       "<Figure size 864x216 with 1 Axes>"
      ]
     },
     "metadata": {
      "needs_background": "light"
     },
     "output_type": "display_data"
    }
   ],
   "source": [
    "#plot données des lectures sequentielles\n",
    "plt.figure(figsize=(12, 3))\n",
    "plt.plot(x_rand1, y_rand1, \"-o\",linewidth =2.5)\n",
    "plt.xlabel(\"date d'arrivée(s)\")\n",
    "plt.ylabel(\"latence(s)\")\n",
    "plt.title('ecriture aléatoire de 1 bytes')\n",
    "plt.savefig(\"../outplot/write/rand/write_rand1.png\")\n",
    "plt.show()"
   ]
  },
  {
   "cell_type": "code",
   "execution_count": null,
   "metadata": {},
   "outputs": [],
   "source": []
  }
 ],
 "metadata": {
  "kernelspec": {
   "display_name": "Python 3",
   "language": "python",
   "name": "python3"
  },
  "language_info": {
   "codemirror_mode": {
    "name": "ipython",
    "version": 3
   },
   "file_extension": ".py",
   "mimetype": "text/x-python",
   "name": "python",
   "nbconvert_exporter": "python",
   "pygments_lexer": "ipython3",
   "version": "3.8.3"
  }
 },
 "nbformat": 4,
 "nbformat_minor": 4
}
